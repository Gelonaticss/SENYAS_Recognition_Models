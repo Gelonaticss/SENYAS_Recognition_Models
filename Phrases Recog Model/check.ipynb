{
 "cells": [
  {
   "cell_type": "code",
   "execution_count": null,
   "metadata": {},
   "outputs": [],
   "source": [
    "print(\"Expected input shape:\", input_details[0]['shape'])\n",
    "print(\"Your input shape:\", landmarks.shape)\n",
    "    "
   ]
  }
 ],
 "metadata": {
  "language_info": {
   "name": "python"
  }
 },
 "nbformat": 4,
 "nbformat_minor": 2
}
